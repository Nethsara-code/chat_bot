{
 "cells": [
  {
   "cell_type": "code",
   "execution_count": 1,
   "id": "b2043be6-f9cf-494c-9ce0-ae8e667d8348",
   "metadata": {},
   "outputs": [],
   "source": [
    "import tkinter as tk\n",
    "from tkinter import scrolledtext\n",
    "import nltk\n",
    "from sklearn.feature_extraction.text import CountVectorizer\n",
    "from sklearn.naive_bayes import MultinomialNB"
   ]
  },
  {
   "cell_type": "code",
   "execution_count": 2,
   "id": "687dae2d-3fea-4439-bd51-856cbadb7d04",
   "metadata": {},
   "outputs": [],
   "source": [
    "training_data = [\n",
    "    (\"hi\", \"Hello! How can I help you?\"),\n",
    "    (\"hello\", \"Hi there! What can I do for you?\"),\n",
    "    (\"how are you\", \"I'm doing great, thanks for asking!\"),\n",
    "    (\"what is your name\", \"I'm your friendly chatbot.\"),\n",
    "    (\"bye\", \"Goodbye! Have a nice day!\"),\n",
    "    (\"thank you\", \"You're welcome!\"),\n",
    "    (\"thanks\", \"No problem!\"),\n",
    "    (\"what can you do\", \"I can chat with you and answer simple questions.\"),\n",
    "    (\"who created you\", \"I was created by an AI enthusiast.\"),\n",
    "    (\"what is AI\", \"AI stands for Artificial Intelligence.\"),\n",
    "    (\"tell me a joke\", \"Why did the computer show up at work late? It had a hard drive!\"),\n",
    "    (\"good morning\", \"Good morning! How can I assist you today?\"),\n",
    "    (\"good night\", \"Good night! Sleep well.\"),\n",
    "    (\"how old are you\", \"I'm timeless!\"),\n",
    "    (\"where are you from\", \"I'm from the cloud.\"),\n",
    "    (\"what is python\", \"Python is a high-level, interpreted programming language.\"),\n",
    "    (\"who created python\", \"Python was created by Guido van Rossum.\"),\n",
    "    (\"what are python features\", \"Python is easy to learn, has dynamic typing, and supports multiple programming paradigms.\"),\n",
    "    (\"is python good for machine learning\", \"Yes, Python is one of the most popular languages for machine learning.\"),\n",
    "    (\"how do you write a function in python\", \"You define a function using the def keyword followed by the function name and parentheses.\"),\n",
    "    (\"what is a list in python\", \"A list is a collection which is ordered and mutable.\"),\n",
    "    (\"how to install python\", \"You can download Python from the official website python.org.\"),\n",
    "    (\"what is a dictionary in python\", \"A dictionary stores data in key-value pairs.\"),\n",
    "    (\"what is a loop in python\", \"Loops are used to execute a block of code repeatedly.\"),\n",
    "    (\"how to comment in python\", \"You use the # symbol to write a comment in Python.\"),\n",
    "]\n"
   ]
  },
  {
   "cell_type": "code",
   "execution_count": 3,
   "id": "939d748c-f8f1-43e0-b0b8-969db4713881",
   "metadata": {},
   "outputs": [
    {
     "name": "stderr",
     "output_type": "stream",
     "text": [
      "[nltk_data] Downloading package punkt to\n",
      "[nltk_data]     C:\\Users\\PC\\AppData\\Roaming\\nltk_data...\n",
      "[nltk_data]   Package punkt is already up-to-date!\n"
     ]
    },
    {
     "data": {
      "text/plain": [
       "True"
      ]
     },
     "execution_count": 3,
     "metadata": {},
     "output_type": "execute_result"
    }
   ],
   "source": [
    "# Prepare NLP model\n",
    "nltk.download('punkt')"
   ]
  },
  {
   "cell_type": "code",
   "execution_count": 4,
   "id": "c610c6b1-c015-490b-a70a-31bc1f6e1638",
   "metadata": {},
   "outputs": [],
   "source": [
    "X_text = [q for q, a in training_data]\n",
    "y = [a for q, a in training_data]\n",
    "\n",
    "vectorizer = CountVectorizer()\n",
    "X = vectorizer.fit_transform(X_text)\n",
    "\n",
    "model = MultinomialNB()\n",
    "model.fit(X, y)\n",
    "\n",
    "def chatbot_response(text):\n",
    "    X_test = vectorizer.transform([text])\n",
    "    prediction = model.predict(X_test)\n",
    "    return prediction[0]"
   ]
  },
  {
   "cell_type": "code",
   "execution_count": null,
   "id": "9becac40-6185-4430-aaa9-7421133df977",
   "metadata": {},
   "outputs": [],
   "source": [
    "# GUI Setup\n",
    "root = tk.Tk()\n",
    "root.title(\"Simple Chatbot\")\n",
    "root.geometry(\"650x500\")\n",
    "root.configure(bg=\"#2C3E50\")  # Dark Blue background\n",
    "\n",
    "# Chat display area\n",
    "chat_window = scrolledtext.ScrolledText(root, state='disabled', width=70, height=20, wrap='word', \n",
    "                                        bg=\"#34495E\", fg=\"#ECF0F1\", font=(\"Helvetica\", 12), relief=tk.FLAT)\n",
    "chat_window.grid(row=0, column=0, columnspan=2, padx=15, pady=15)\n",
    "\n",
    "# User input entry\n",
    "user_entry = tk.Entry(root, width=55, font=(\"Helvetica\", 14), bg=\"#ECF0F1\", fg=\"#2C3E50\", relief=tk.FLAT)\n",
    "user_entry.grid(row=1, column=0, padx=(15, 5), pady=(0,15), ipady=7)\n",
    "\n",
    "def send_message(event=None):\n",
    "    user_text = user_entry.get()\n",
    "    if user_text.strip() == \"\":\n",
    "        return\n",
    "    chat_window.config(state='normal')\n",
    "    chat_window.insert(tk.END, \"You: \" + user_text + \"\\n\")\n",
    "    response = chatbot_response(user_text.lower())\n",
    "    chat_window.insert(tk.END, \"Bot: \" + response + \"\\n\\n\")\n",
    "    chat_window.config(state='disabled')\n",
    "    chat_window.yview(tk.END)\n",
    "    user_entry.delete(0, tk.END)\n",
    "\n",
    "# Send button\n",
    "send_button = tk.Button(root, text=\"Send\", command=send_message, bg=\"#1ABC9C\", fg=\"white\", \n",
    "                        font=(\"Helvetica\", 14, \"bold\"), activebackground=\"#16A085\", relief=tk.FLAT, padx=20)\n",
    "send_button.grid(row=1, column=1, padx=(5,15), pady=(0,15))\n",
    "\n",
    "# Bind Enter key to send message\n",
    "user_entry.bind(\"<Return>\", send_message)\n",
    "\n",
    "root.mainloop()\n"
   ]
  },
  {
   "cell_type": "code",
   "execution_count": null,
   "id": "654e530c-6445-4f04-9253-12efc3190525",
   "metadata": {},
   "outputs": [],
   "source": []
  }
 ],
 "metadata": {
  "kernelspec": {
   "display_name": "Python 3 (ipykernel)",
   "language": "python",
   "name": "python3"
  },
  "language_info": {
   "codemirror_mode": {
    "name": "ipython",
    "version": 3
   },
   "file_extension": ".py",
   "mimetype": "text/x-python",
   "name": "python",
   "nbconvert_exporter": "python",
   "pygments_lexer": "ipython3",
   "version": "3.13.5"
  }
 },
 "nbformat": 4,
 "nbformat_minor": 5
}
